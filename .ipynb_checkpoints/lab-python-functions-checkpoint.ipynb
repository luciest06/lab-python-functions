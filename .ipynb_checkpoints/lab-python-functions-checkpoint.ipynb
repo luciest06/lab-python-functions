{
 "cells": [
  {
   "cell_type": "markdown",
   "id": "25d7736c-ba17-4aff-b6bb-66eba20fbf4e",
   "metadata": {},
   "source": [
    "# Lab | Functions"
   ]
  },
  {
   "cell_type": "markdown",
   "id": "0c581062-8967-4d93-b06e-62833222f930",
   "metadata": {
    "tags": []
   },
   "source": [
    "## Exercise: Managing Customer Orders with Functions\n",
    "\n",
    "In the previous exercise, you improved the code for managing customer orders by using loops and flow control. Now, let's take it a step further and refactor the code by introducing functions.\n",
    "\n",
    "Follow the steps below to complete the exercise:\n",
    "\n",
    "1. Define a function named `initialize_inventory` that takes `products` as a parameter. Inside the function, implement the code for initializing the inventory dictionary using a loop and user input.\n",
    "\n",
    "2. Define a function named `get_customer_orders` that takes no parameters. Inside the function, implement the code for prompting the user to enter the product names using a loop. The function should return the `customer_orders` set.\n",
    "\n",
    "3. Define a function named `update_inventory` that takes `customer_orders` and `inventory` as parameters. Inside the function, implement the code for updating the inventory dictionary based on the customer orders.\n",
    "\n",
    "4. Define a function named `calculate_order_statistics` that takes `customer_orders` and `products` as parameters. Inside the function, implement the code for calculating the order statistics (total products ordered, and percentage of unique products ordered). The function should return these values.\n",
    "\n",
    "5. Define a function named `print_order_statistics` that takes `order_statistics` as a parameter. Inside the function, implement the code for printing the order statistics.\n",
    "\n",
    "6. Define a function named `print_updated_inventory` that takes `inventory` as a parameter. Inside the function, implement the code for printing the updated inventory.\n",
    "\n",
    "7. Call the functions in the appropriate sequence to execute the program and manage customer orders.\n",
    "\n",
    "Hints for functions:\n",
    "\n",
    "- Consider the input parameters required for each function and their return values.\n",
    "- Utilize function parameters and return values to transfer data between functions.\n",
    "- Test your functions individually to ensure they work correctly.\n",
    "\n",
    "\n"
   ]
  },
  {
   "cell_type": "code",
   "execution_count": 148,
   "id": "00383b82-3577-48eb-8ca9-467ddf97d954",
   "metadata": {},
   "outputs": [],
   "source": [
    "#1\n",
    "\n",
    "products=[\"t-shirt\",\"mug\",\"hat\",\"book\",\"keychain\"]\n",
    "def initialize_inventory(products):\n",
    "    \"\"\"initializing the inventory dictionary\"\"\"\n",
    "    inventory={}\n",
    "    for i in products:\n",
    "        inventory[i]=int(input(f\"Please enter the number of {i}: \"))\n",
    "    return inventory"
   ]
  },
  {
   "cell_type": "code",
   "execution_count": null,
   "id": "8af6fa15-d4cb-4364-95a8-14e24422b1ee",
   "metadata": {},
   "outputs": [],
   "source": [
    "#Q2\n",
    "def get_customer_orders():\n",
    "    \"\"\"collects customers' order\"\"\"\n",
    "    customer_orders=set()\n",
    "    order=input(\"Please enter your first item you wish to order, you can order a t-shirt, a mug, a hat, a book, or a keychain: \").lower()\n",
    "    customer_orders.add(order)\n",
    "    while input(\"Great choice! Do you want to add another product? Please enter YES or NO \").lower()==\"yes\":\n",
    "        order_additional=input(\"Pleaser enter the item you wish to order: \").lower()\n",
    "        customer_orders.add(order_additional)\n",
    "    return customer_orders\n",
    "\n",
    "get_customer_orders()\n",
    "print(customer_orders)\n",
    "len(customer_orders)"
   ]
  },
  {
   "cell_type": "code",
   "execution_count": 118,
   "id": "a7975762-95b0-4e1f-8f46-1039737e10b5",
   "metadata": {},
   "outputs": [],
   "source": [
    "#Q3\n",
    "\n",
    "def update_inventory(customer_orders,inventory):\n",
    "    \"\"\"updating the inventory dictionary based on the customer orders\"\"\"\n",
    "    for product in customer_orders:\n",
    "        if product in inventory:\n",
    "            inventory[product]-=1\n",
    "    return inventory\n"
   ]
  },
  {
   "cell_type": "code",
   "execution_count": 120,
   "id": "438bc1a2-5f70-4cd9-80bf-58ecd21fd4c9",
   "metadata": {},
   "outputs": [],
   "source": [
    "#Q4\n",
    "\n",
    "def calculate_order_statistics(customer_orders,products):\n",
    "    \"\"\"calculating the order statistics (total products ordered, and percentage of unique products ordered)\"\"\"\n",
    "    total_products_ordered=len(customer_orders)\n",
    "    inventory.values()\n",
    "    total_inventory=sum(inventory.values())\n",
    "    percentage_products_ordered=(total_products_ordered/total_inventory)*100\n",
    "    order_status=(total_products_ordered,percentage_products_ordered)\n",
    "    return order_status\n"
   ]
  },
  {
   "cell_type": "code",
   "execution_count": 122,
   "id": "5f21acae-16c5-4cc3-82e1-dc3ccb282321",
   "metadata": {},
   "outputs": [],
   "source": [
    "#Q5\n",
    "\n",
    "total_products_ordered=len(customer_orders)\n",
    "total_inventory=sum(inventory.values())\n",
    "percentage_products_ordered=(total_products_ordered/total_inventory)*100\n",
    "\n",
    "def print_order_statistics(order_statistics):\n",
    "    \"\"\"printing the order statistics\"\"\"\n",
    "    print(\"Order Statistics: \")\n",
    "    print(f\"Total Products Ordered: {total_products_ordered}\")\n",
    "    print(f\"Percentage of Products Ordered: {percentage_products_ordered}%\")\n"
   ]
  },
  {
   "cell_type": "code",
   "execution_count": 124,
   "id": "03ce8524-d10b-4729-9c3c-043ae655d1ce",
   "metadata": {},
   "outputs": [],
   "source": [
    "#Q6\n",
    "\n",
    "def print_updated_inventory(inventory):\n",
    "    print(inventory)\n",
    "    print(customer_orders)\n",
    "    for product in customer_orders:\n",
    "        if product in inventory:\n",
    "            inventory[product]-=1\n",
    "    return inventory\n"
   ]
  },
  {
   "cell_type": "code",
   "execution_count": 132,
   "id": "e023402c-8c87-418f-99a5-1cf3e7de3654",
   "metadata": {},
   "outputs": [
    {
     "name": "stdin",
     "output_type": "stream",
     "text": [
      "Please enter the number of t-shirt:  4\n",
      "Please enter the number of mug:  5\n",
      "Please enter the number of hat:  6\n",
      "Please enter the number of book:  7\n",
      "Please enter the number of keychain:  2\n",
      "Please enter your first item you wish to order, you can order a t-shirt, a mug, a hat, a book, or a keychain:  book\n",
      "Great choice! Do you want to add another product? Please enter YES or NO  yes\n",
      "Pleaser enter the item you wish to order:  hat\n",
      "Great choice! Do you want to add another product? Please enter YES or NO  yes\n",
      "Pleaser enter the item you wish to order:  mug\n",
      "Great choice! Do you want to add another product? Please enter YES or NO  no\n"
     ]
    },
    {
     "name": "stdout",
     "output_type": "stream",
     "text": [
      "Order Statistics: \n",
      "Total Products Ordered: 1\n",
      "Percentage of Products Ordered: 0.6578947368421052%\n",
      "{'t-shirt': 34, 'mug': 2, 'hat': 45, 'book': 56, 'keychain': 12}\n",
      "{'book'}\n"
     ]
    },
    {
     "data": {
      "text/plain": [
       "{'t-shirt': 34, 'mug': 2, 'hat': 45, 'book': 55, 'keychain': 12}"
      ]
     },
     "execution_count": 132,
     "metadata": {},
     "output_type": "execute_result"
    }
   ],
   "source": [
    "#Q7\n",
    "\n",
    "initialize_inventory(products)\n",
    "get_customer_orders()\n",
    "update_inventory(customer_orders,inventory)\n",
    "calculate_order_statistics(customer_orders,products)\n",
    "print_order_statistics(order_statistics)\n",
    "print_updated_inventory(inventory)"
   ]
  },
  {
   "cell_type": "code",
   "execution_count": null,
   "id": "5d652f5f-3568-429d-843a-328f9bbe240f",
   "metadata": {},
   "outputs": [],
   "source": []
  }
 ],
 "metadata": {
  "kernelspec": {
   "display_name": "Python 3 (ipykernel)",
   "language": "python",
   "name": "python3"
  },
  "language_info": {
   "codemirror_mode": {
    "name": "ipython",
    "version": 3
   },
   "file_extension": ".py",
   "mimetype": "text/x-python",
   "name": "python",
   "nbconvert_exporter": "python",
   "pygments_lexer": "ipython3",
   "version": "3.12.4"
  }
 },
 "nbformat": 4,
 "nbformat_minor": 5
}
